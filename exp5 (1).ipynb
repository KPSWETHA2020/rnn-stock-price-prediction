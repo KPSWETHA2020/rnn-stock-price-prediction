{
  "nbformat": 4,
  "nbformat_minor": 0,
  "metadata": {
    "colab": {
      "provenance": []
    },
    "kernelspec": {
      "name": "python3",
      "display_name": "Python 3"
    },
    "language_info": {
      "name": "python"
    }
  },
  "cells": [
    {
      "cell_type": "code",
      "execution_count": 1,
      "metadata": {
        "colab": {
          "base_uri": "https://localhost:8080/"
        },
        "id": "SmdWte_bD24d",
        "outputId": "124d5b87-4fcf-4ee6-b5c6-32dffd9d95cb"
      },
      "outputs": [
        {
          "output_type": "stream",
          "name": "stdout",
          "text": [
            "Cloning into 'rnn-stock-price-prediction'...\n",
            "remote: Enumerating objects: 11, done.\u001b[K\n",
            "remote: Counting objects: 100% (4/4), done.\u001b[K\n",
            "remote: Compressing objects: 100% (3/3), done.\u001b[K\n",
            "remote: Total 11 (delta 1), reused 1 (delta 1), pack-reused 7\u001b[K\n",
            "Unpacking objects: 100% (11/11), done.\n"
          ]
        }
      ],
      "source": [
        " !git clone https://github.com/obedotto/rnn-stock-price-prediction.git"
      ]
    },
    {
      "cell_type": "code",
      "source": [
        "import numpy as np\n",
        "import matplotlib.pyplot as plt\n",
        "import pandas as pd\n",
        "from sklearn.preprocessing import MinMaxScaler\n",
        "from keras import layers\n",
        "from keras.models import Sequential\n",
        "import tensorflow as tf\n"
      ],
      "metadata": {
        "id": "fvBpj5-5Eith"
      },
      "execution_count": 2,
      "outputs": []
    },
    {
      "cell_type": "code",
      "source": [
        "dataset_train = pd.read_csv('rnn-stock-price-prediction/trainset.csv')"
      ],
      "metadata": {
        "id": "kAwpxF28EuwE"
      },
      "execution_count": 3,
      "outputs": []
    },
    {
      "cell_type": "code",
      "source": [
        "dataset_train.columns"
      ],
      "metadata": {
        "colab": {
          "base_uri": "https://localhost:8080/"
        },
        "id": "mpzyXL8-FPuo",
        "outputId": "56af3201-e47b-439e-e8ce-e2be53986f5e"
      },
      "execution_count": 4,
      "outputs": [
        {
          "output_type": "execute_result",
          "data": {
            "text/plain": [
              "Index(['Date', 'Open', 'High', 'Low', 'Close', 'Adj Close', 'Volume'], dtype='object')"
            ]
          },
          "metadata": {},
          "execution_count": 4
        }
      ]
    },
    {
      "cell_type": "code",
      "source": [
        "dataset_train.head()"
      ],
      "metadata": {
        "colab": {
          "base_uri": "https://localhost:8080/",
          "height": 206
        },
        "id": "WJcrOd6kFZAr",
        "outputId": "c321f414-bd3f-4a2c-c548-a33f03823b8d"
      },
      "execution_count": 5,
      "outputs": [
        {
          "output_type": "execute_result",
          "data": {
            "text/plain": [
              "         Date        Open        High         Low       Close   Adj Close  \\\n",
              "0  2013-01-02  357.385559  361.151062  355.959839  359.288177  359.288177   \n",
              "1  2013-01-03  360.122742  363.600128  358.031342  359.496826  359.496826   \n",
              "2  2013-01-04  362.313507  368.339294  361.488861  366.600616  366.600616   \n",
              "3  2013-01-07  365.348755  367.301056  362.929504  365.001007  365.001007   \n",
              "4  2013-01-08  365.393463  365.771027  359.874359  364.280701  364.280701   \n",
              "\n",
              "    Volume  \n",
              "0  5115500  \n",
              "1  4666500  \n",
              "2  5562800  \n",
              "3  3332900  \n",
              "4  3373900  "
            ],
            "text/html": [
              "\n",
              "  <div id=\"df-c2e721ca-f4b8-40c9-ac41-5a4e7031bb10\">\n",
              "    <div class=\"colab-df-container\">\n",
              "      <div>\n",
              "<style scoped>\n",
              "    .dataframe tbody tr th:only-of-type {\n",
              "        vertical-align: middle;\n",
              "    }\n",
              "\n",
              "    .dataframe tbody tr th {\n",
              "        vertical-align: top;\n",
              "    }\n",
              "\n",
              "    .dataframe thead th {\n",
              "        text-align: right;\n",
              "    }\n",
              "</style>\n",
              "<table border=\"1\" class=\"dataframe\">\n",
              "  <thead>\n",
              "    <tr style=\"text-align: right;\">\n",
              "      <th></th>\n",
              "      <th>Date</th>\n",
              "      <th>Open</th>\n",
              "      <th>High</th>\n",
              "      <th>Low</th>\n",
              "      <th>Close</th>\n",
              "      <th>Adj Close</th>\n",
              "      <th>Volume</th>\n",
              "    </tr>\n",
              "  </thead>\n",
              "  <tbody>\n",
              "    <tr>\n",
              "      <th>0</th>\n",
              "      <td>2013-01-02</td>\n",
              "      <td>357.385559</td>\n",
              "      <td>361.151062</td>\n",
              "      <td>355.959839</td>\n",
              "      <td>359.288177</td>\n",
              "      <td>359.288177</td>\n",
              "      <td>5115500</td>\n",
              "    </tr>\n",
              "    <tr>\n",
              "      <th>1</th>\n",
              "      <td>2013-01-03</td>\n",
              "      <td>360.122742</td>\n",
              "      <td>363.600128</td>\n",
              "      <td>358.031342</td>\n",
              "      <td>359.496826</td>\n",
              "      <td>359.496826</td>\n",
              "      <td>4666500</td>\n",
              "    </tr>\n",
              "    <tr>\n",
              "      <th>2</th>\n",
              "      <td>2013-01-04</td>\n",
              "      <td>362.313507</td>\n",
              "      <td>368.339294</td>\n",
              "      <td>361.488861</td>\n",
              "      <td>366.600616</td>\n",
              "      <td>366.600616</td>\n",
              "      <td>5562800</td>\n",
              "    </tr>\n",
              "    <tr>\n",
              "      <th>3</th>\n",
              "      <td>2013-01-07</td>\n",
              "      <td>365.348755</td>\n",
              "      <td>367.301056</td>\n",
              "      <td>362.929504</td>\n",
              "      <td>365.001007</td>\n",
              "      <td>365.001007</td>\n",
              "      <td>3332900</td>\n",
              "    </tr>\n",
              "    <tr>\n",
              "      <th>4</th>\n",
              "      <td>2013-01-08</td>\n",
              "      <td>365.393463</td>\n",
              "      <td>365.771027</td>\n",
              "      <td>359.874359</td>\n",
              "      <td>364.280701</td>\n",
              "      <td>364.280701</td>\n",
              "      <td>3373900</td>\n",
              "    </tr>\n",
              "  </tbody>\n",
              "</table>\n",
              "</div>\n",
              "      <button class=\"colab-df-convert\" onclick=\"convertToInteractive('df-c2e721ca-f4b8-40c9-ac41-5a4e7031bb10')\"\n",
              "              title=\"Convert this dataframe to an interactive table.\"\n",
              "              style=\"display:none;\">\n",
              "        \n",
              "  <svg xmlns=\"http://www.w3.org/2000/svg\" height=\"24px\"viewBox=\"0 0 24 24\"\n",
              "       width=\"24px\">\n",
              "    <path d=\"M0 0h24v24H0V0z\" fill=\"none\"/>\n",
              "    <path d=\"M18.56 5.44l.94 2.06.94-2.06 2.06-.94-2.06-.94-.94-2.06-.94 2.06-2.06.94zm-11 1L8.5 8.5l.94-2.06 2.06-.94-2.06-.94L8.5 2.5l-.94 2.06-2.06.94zm10 10l.94 2.06.94-2.06 2.06-.94-2.06-.94-.94-2.06-.94 2.06-2.06.94z\"/><path d=\"M17.41 7.96l-1.37-1.37c-.4-.4-.92-.59-1.43-.59-.52 0-1.04.2-1.43.59L10.3 9.45l-7.72 7.72c-.78.78-.78 2.05 0 2.83L4 21.41c.39.39.9.59 1.41.59.51 0 1.02-.2 1.41-.59l7.78-7.78 2.81-2.81c.8-.78.8-2.07 0-2.86zM5.41 20L4 18.59l7.72-7.72 1.47 1.35L5.41 20z\"/>\n",
              "  </svg>\n",
              "      </button>\n",
              "      \n",
              "  <style>\n",
              "    .colab-df-container {\n",
              "      display:flex;\n",
              "      flex-wrap:wrap;\n",
              "      gap: 12px;\n",
              "    }\n",
              "\n",
              "    .colab-df-convert {\n",
              "      background-color: #E8F0FE;\n",
              "      border: none;\n",
              "      border-radius: 50%;\n",
              "      cursor: pointer;\n",
              "      display: none;\n",
              "      fill: #1967D2;\n",
              "      height: 32px;\n",
              "      padding: 0 0 0 0;\n",
              "      width: 32px;\n",
              "    }\n",
              "\n",
              "    .colab-df-convert:hover {\n",
              "      background-color: #E2EBFA;\n",
              "      box-shadow: 0px 1px 2px rgba(60, 64, 67, 0.3), 0px 1px 3px 1px rgba(60, 64, 67, 0.15);\n",
              "      fill: #174EA6;\n",
              "    }\n",
              "\n",
              "    [theme=dark] .colab-df-convert {\n",
              "      background-color: #3B4455;\n",
              "      fill: #D2E3FC;\n",
              "    }\n",
              "\n",
              "    [theme=dark] .colab-df-convert:hover {\n",
              "      background-color: #434B5C;\n",
              "      box-shadow: 0px 1px 3px 1px rgba(0, 0, 0, 0.15);\n",
              "      filter: drop-shadow(0px 1px 2px rgba(0, 0, 0, 0.3));\n",
              "      fill: #FFFFFF;\n",
              "    }\n",
              "  </style>\n",
              "\n",
              "      <script>\n",
              "        const buttonEl =\n",
              "          document.querySelector('#df-c2e721ca-f4b8-40c9-ac41-5a4e7031bb10 button.colab-df-convert');\n",
              "        buttonEl.style.display =\n",
              "          google.colab.kernel.accessAllowed ? 'block' : 'none';\n",
              "\n",
              "        async function convertToInteractive(key) {\n",
              "          const element = document.querySelector('#df-c2e721ca-f4b8-40c9-ac41-5a4e7031bb10');\n",
              "          const dataTable =\n",
              "            await google.colab.kernel.invokeFunction('convertToInteractive',\n",
              "                                                     [key], {});\n",
              "          if (!dataTable) return;\n",
              "\n",
              "          const docLinkHtml = 'Like what you see? Visit the ' +\n",
              "            '<a target=\"_blank\" href=https://colab.research.google.com/notebooks/data_table.ipynb>data table notebook</a>'\n",
              "            + ' to learn more about interactive tables.';\n",
              "          element.innerHTML = '';\n",
              "          dataTable['output_type'] = 'display_data';\n",
              "          await google.colab.output.renderOutput(dataTable, element);\n",
              "          const docLink = document.createElement('div');\n",
              "          docLink.innerHTML = docLinkHtml;\n",
              "          element.appendChild(docLink);\n",
              "        }\n",
              "      </script>\n",
              "    </div>\n",
              "  </div>\n",
              "  "
            ]
          },
          "metadata": {},
          "execution_count": 5
        }
      ]
    },
    {
      "cell_type": "code",
      "source": [
        "train_set = dataset_train.iloc[:,1:2].values"
      ],
      "metadata": {
        "id": "3PjjGygwFb55"
      },
      "execution_count": 6,
      "outputs": []
    },
    {
      "cell_type": "code",
      "source": [
        "type(train_set)"
      ],
      "metadata": {
        "colab": {
          "base_uri": "https://localhost:8080/"
        },
        "id": "pkqG3_PxFioV",
        "outputId": "945b3eb8-be6f-463d-9b8b-eac626f97a5a"
      },
      "execution_count": 7,
      "outputs": [
        {
          "output_type": "execute_result",
          "data": {
            "text/plain": [
              "numpy.ndarray"
            ]
          },
          "metadata": {},
          "execution_count": 7
        }
      ]
    },
    {
      "cell_type": "code",
      "source": [
        "train_set.shape"
      ],
      "metadata": {
        "colab": {
          "base_uri": "https://localhost:8080/"
        },
        "id": "0ISz_y8oFl-V",
        "outputId": "c84a7449-01be-484b-bc91-76b8051fb66b"
      },
      "execution_count": 8,
      "outputs": [
        {
          "output_type": "execute_result",
          "data": {
            "text/plain": [
              "(1259, 1)"
            ]
          },
          "metadata": {},
          "execution_count": 8
        }
      ]
    },
    {
      "cell_type": "code",
      "source": [
        "sc = MinMaxScaler(feature_range=(0,1))\n",
        "training_set_scaled = sc.fit_transform(train_set)"
      ],
      "metadata": {
        "id": "G9csSnuFFpkr"
      },
      "execution_count": 9,
      "outputs": []
    },
    {
      "cell_type": "code",
      "source": [
        "training_set_scaled.shape"
      ],
      "metadata": {
        "colab": {
          "base_uri": "https://localhost:8080/"
        },
        "id": "OT-UYD5GFt1q",
        "outputId": "b0835550-46d9-4a95-a465-9d141fdd5ec6"
      },
      "execution_count": 10,
      "outputs": [
        {
          "output_type": "execute_result",
          "data": {
            "text/plain": [
              "(1259, 1)"
            ]
          },
          "metadata": {},
          "execution_count": 10
        }
      ]
    },
    {
      "cell_type": "code",
      "source": [
        "X_train_array = []\n",
        "y_train_array = []\n",
        "for i in range(60, 1259):\n",
        "  X_train_array.append(training_set_scaled[i-60:i,0])\n",
        "  y_train_array.append(training_set_scaled[i,0])\n",
        "X_train, y_train = np.array(X_train_array), np.array(y_train_array)\n",
        "X_train1 = X_train.reshape((X_train.shape[0], X_train.shape[1],1))"
      ],
      "metadata": {
        "id": "uifecfAZFxOY"
      },
      "execution_count": 11,
      "outputs": []
    },
    {
      "cell_type": "code",
      "source": [
        "X_train.shape"
      ],
      "metadata": {
        "colab": {
          "base_uri": "https://localhost:8080/"
        },
        "id": "6yI5YIi3F0PQ",
        "outputId": "d973bfd1-b6e9-485d-d8cd-50ba3a4400dc"
      },
      "execution_count": 12,
      "outputs": [
        {
          "output_type": "execute_result",
          "data": {
            "text/plain": [
              "(1199, 60)"
            ]
          },
          "metadata": {},
          "execution_count": 12
        }
      ]
    },
    {
      "cell_type": "code",
      "source": [
        "length = 60\n",
        "n_features = 1"
      ],
      "metadata": {
        "id": "2KsppRHnF3YV"
      },
      "execution_count": 13,
      "outputs": []
    },
    {
      "cell_type": "code",
      "source": [
        "model = Sequential([\n",
        "tf.keras.layers.Bidirectional(tf.keras.layers.SimpleRNN(50,input_shape=(60,1), activation = 'relu')),\n",
        "tf.keras.layers.Dense(1)\n",
        "])\n",
        "\n",
        "\n",
        "model.compile(optimizer='adam', loss='mse')"
      ],
      "metadata": {
        "id": "sZZDpFnwF7ez"
      },
      "execution_count": 14,
      "outputs": []
    },
    {
      "cell_type": "code",
      "source": [
        "model.fit(X_train1,y_train,epochs=100, batch_size=32)"
      ],
      "metadata": {
        "colab": {
          "base_uri": "https://localhost:8080/"
        },
        "id": "zSafLWd1G2ma",
        "outputId": "ee168f1f-adff-423b-ae53-9d1cffb55337"
      },
      "execution_count": 15,
      "outputs": [
        {
          "output_type": "stream",
          "name": "stdout",
          "text": [
            "Epoch 1/100\n",
            "38/38 [==============================] - 3s 22ms/step - loss: 0.0026\n",
            "Epoch 2/100\n",
            "38/38 [==============================] - 1s 21ms/step - loss: 8.1579e-04\n",
            "Epoch 3/100\n",
            "38/38 [==============================] - 1s 22ms/step - loss: 4.5592e-04\n",
            "Epoch 4/100\n",
            "38/38 [==============================] - 1s 22ms/step - loss: 3.3512e-04\n",
            "Epoch 5/100\n",
            "38/38 [==============================] - 1s 22ms/step - loss: 2.9196e-04\n",
            "Epoch 6/100\n",
            "38/38 [==============================] - 1s 20ms/step - loss: 3.0225e-04\n",
            "Epoch 7/100\n",
            "38/38 [==============================] - 1s 21ms/step - loss: 2.6292e-04\n",
            "Epoch 8/100\n",
            "38/38 [==============================] - 1s 21ms/step - loss: 2.6769e-04\n",
            "Epoch 9/100\n",
            "38/38 [==============================] - 1s 21ms/step - loss: 2.7547e-04\n",
            "Epoch 10/100\n",
            "38/38 [==============================] - 1s 20ms/step - loss: 2.2539e-04\n",
            "Epoch 11/100\n",
            "38/38 [==============================] - 1s 21ms/step - loss: 2.2157e-04\n",
            "Epoch 12/100\n",
            "38/38 [==============================] - 1s 22ms/step - loss: 2.3403e-04\n",
            "Epoch 13/100\n",
            "38/38 [==============================] - 1s 21ms/step - loss: 2.3138e-04\n",
            "Epoch 14/100\n",
            "38/38 [==============================] - 1s 21ms/step - loss: 2.2920e-04\n",
            "Epoch 15/100\n",
            "38/38 [==============================] - 1s 19ms/step - loss: 2.2512e-04\n",
            "Epoch 16/100\n",
            "38/38 [==============================] - 1s 21ms/step - loss: 2.1555e-04\n",
            "Epoch 17/100\n",
            "38/38 [==============================] - 1s 21ms/step - loss: 2.0822e-04\n",
            "Epoch 18/100\n",
            "38/38 [==============================] - 1s 22ms/step - loss: 2.0861e-04\n",
            "Epoch 19/100\n",
            "38/38 [==============================] - 1s 21ms/step - loss: 2.1953e-04\n",
            "Epoch 20/100\n",
            "38/38 [==============================] - 1s 19ms/step - loss: 2.1772e-04\n",
            "Epoch 21/100\n",
            "38/38 [==============================] - 1s 19ms/step - loss: 2.7049e-04\n",
            "Epoch 22/100\n",
            "38/38 [==============================] - 1s 20ms/step - loss: 2.1275e-04\n",
            "Epoch 23/100\n",
            "38/38 [==============================] - 1s 21ms/step - loss: 2.1111e-04\n",
            "Epoch 24/100\n",
            "38/38 [==============================] - 1s 20ms/step - loss: 2.3759e-04\n",
            "Epoch 25/100\n",
            "38/38 [==============================] - 1s 21ms/step - loss: 2.3580e-04\n",
            "Epoch 26/100\n",
            "38/38 [==============================] - 1s 21ms/step - loss: 2.1106e-04\n",
            "Epoch 27/100\n",
            "38/38 [==============================] - 1s 21ms/step - loss: 1.9966e-04\n",
            "Epoch 28/100\n",
            "38/38 [==============================] - 1s 21ms/step - loss: 2.0430e-04\n",
            "Epoch 29/100\n",
            "38/38 [==============================] - 1s 20ms/step - loss: 1.9722e-04\n",
            "Epoch 30/100\n",
            "38/38 [==============================] - 1s 21ms/step - loss: 1.9352e-04\n",
            "Epoch 31/100\n",
            "38/38 [==============================] - 1s 21ms/step - loss: 2.3201e-04\n",
            "Epoch 32/100\n",
            "38/38 [==============================] - 1s 20ms/step - loss: 1.9151e-04\n",
            "Epoch 33/100\n",
            "38/38 [==============================] - 1s 21ms/step - loss: 1.9971e-04\n",
            "Epoch 34/100\n",
            "38/38 [==============================] - 1s 21ms/step - loss: 1.9488e-04\n",
            "Epoch 35/100\n",
            "38/38 [==============================] - 1s 20ms/step - loss: 1.8732e-04\n",
            "Epoch 36/100\n",
            "38/38 [==============================] - 1s 22ms/step - loss: 1.9768e-04\n",
            "Epoch 37/100\n",
            "38/38 [==============================] - 1s 21ms/step - loss: 1.9555e-04\n",
            "Epoch 38/100\n",
            "38/38 [==============================] - 1s 21ms/step - loss: 2.0380e-04\n",
            "Epoch 39/100\n",
            "38/38 [==============================] - 1s 19ms/step - loss: 2.0035e-04\n",
            "Epoch 40/100\n",
            "38/38 [==============================] - 1s 20ms/step - loss: 2.0265e-04\n",
            "Epoch 41/100\n",
            "38/38 [==============================] - 1s 20ms/step - loss: 1.9202e-04\n",
            "Epoch 42/100\n",
            "38/38 [==============================] - 1s 21ms/step - loss: 1.9710e-04\n",
            "Epoch 43/100\n",
            "38/38 [==============================] - 1s 21ms/step - loss: 2.0455e-04\n",
            "Epoch 44/100\n",
            "38/38 [==============================] - 1s 22ms/step - loss: 2.0148e-04\n",
            "Epoch 45/100\n",
            "38/38 [==============================] - 1s 21ms/step - loss: 1.9014e-04\n",
            "Epoch 46/100\n",
            "38/38 [==============================] - 1s 21ms/step - loss: 2.1227e-04\n",
            "Epoch 47/100\n",
            "38/38 [==============================] - 1s 19ms/step - loss: 2.0880e-04\n",
            "Epoch 48/100\n",
            "38/38 [==============================] - 1s 19ms/step - loss: 1.8379e-04\n",
            "Epoch 49/100\n",
            "38/38 [==============================] - 1s 19ms/step - loss: 1.8742e-04\n",
            "Epoch 50/100\n",
            "38/38 [==============================] - 1s 19ms/step - loss: 1.8378e-04\n",
            "Epoch 51/100\n",
            "38/38 [==============================] - 1s 20ms/step - loss: 2.2865e-04\n",
            "Epoch 52/100\n",
            "38/38 [==============================] - 1s 21ms/step - loss: 1.9393e-04\n",
            "Epoch 53/100\n",
            "38/38 [==============================] - 1s 20ms/step - loss: 1.9439e-04\n",
            "Epoch 54/100\n",
            "38/38 [==============================] - 1s 21ms/step - loss: 1.7384e-04\n",
            "Epoch 55/100\n",
            "38/38 [==============================] - 1s 21ms/step - loss: 1.8999e-04\n",
            "Epoch 56/100\n",
            "38/38 [==============================] - 1s 21ms/step - loss: 1.8552e-04\n",
            "Epoch 57/100\n",
            "38/38 [==============================] - 1s 21ms/step - loss: 2.1114e-04\n",
            "Epoch 58/100\n",
            "38/38 [==============================] - 1s 21ms/step - loss: 1.9316e-04\n",
            "Epoch 59/100\n",
            "38/38 [==============================] - 1s 21ms/step - loss: 1.7088e-04\n",
            "Epoch 60/100\n",
            "38/38 [==============================] - 1s 21ms/step - loss: 2.0036e-04\n",
            "Epoch 61/100\n",
            "38/38 [==============================] - 1s 21ms/step - loss: 1.8749e-04\n",
            "Epoch 62/100\n",
            "38/38 [==============================] - 1s 21ms/step - loss: 1.8184e-04\n",
            "Epoch 63/100\n",
            "38/38 [==============================] - 1s 21ms/step - loss: 2.0870e-04\n",
            "Epoch 64/100\n",
            "38/38 [==============================] - 1s 20ms/step - loss: 1.8053e-04\n",
            "Epoch 65/100\n",
            "38/38 [==============================] - 1s 20ms/step - loss: 1.7644e-04\n",
            "Epoch 66/100\n",
            "38/38 [==============================] - 1s 21ms/step - loss: 1.7068e-04\n",
            "Epoch 67/100\n",
            "38/38 [==============================] - 1s 19ms/step - loss: 1.7618e-04\n",
            "Epoch 68/100\n",
            "38/38 [==============================] - 1s 19ms/step - loss: 1.7118e-04\n",
            "Epoch 69/100\n",
            "38/38 [==============================] - 1s 21ms/step - loss: 1.8497e-04\n",
            "Epoch 70/100\n",
            "38/38 [==============================] - 1s 21ms/step - loss: 1.8105e-04\n",
            "Epoch 71/100\n",
            "38/38 [==============================] - 1s 20ms/step - loss: 1.8486e-04\n",
            "Epoch 72/100\n",
            "38/38 [==============================] - 1s 20ms/step - loss: 2.0340e-04\n",
            "Epoch 73/100\n",
            "38/38 [==============================] - 1s 21ms/step - loss: 1.7733e-04\n",
            "Epoch 74/100\n",
            "38/38 [==============================] - 1s 20ms/step - loss: 1.8439e-04\n",
            "Epoch 75/100\n",
            "38/38 [==============================] - 1s 18ms/step - loss: 1.7431e-04\n",
            "Epoch 76/100\n",
            "38/38 [==============================] - 1s 21ms/step - loss: 1.8961e-04\n",
            "Epoch 77/100\n",
            "38/38 [==============================] - 1s 21ms/step - loss: 1.7644e-04\n",
            "Epoch 78/100\n",
            "38/38 [==============================] - 1s 20ms/step - loss: 1.6585e-04\n",
            "Epoch 79/100\n",
            "38/38 [==============================] - 1s 20ms/step - loss: 1.6600e-04\n",
            "Epoch 80/100\n",
            "38/38 [==============================] - 1s 20ms/step - loss: 2.0886e-04\n",
            "Epoch 81/100\n",
            "38/38 [==============================] - 1s 21ms/step - loss: 1.7030e-04\n",
            "Epoch 82/100\n",
            "38/38 [==============================] - 1s 20ms/step - loss: 1.6349e-04\n",
            "Epoch 83/100\n",
            "38/38 [==============================] - 1s 21ms/step - loss: 1.8014e-04\n",
            "Epoch 84/100\n",
            "38/38 [==============================] - 1s 19ms/step - loss: 1.8101e-04\n",
            "Epoch 85/100\n",
            "38/38 [==============================] - 1s 21ms/step - loss: 1.6662e-04\n",
            "Epoch 86/100\n",
            "38/38 [==============================] - 1s 21ms/step - loss: 1.9249e-04\n",
            "Epoch 87/100\n",
            "38/38 [==============================] - 1s 20ms/step - loss: 1.6423e-04\n",
            "Epoch 88/100\n",
            "38/38 [==============================] - 1s 22ms/step - loss: 1.7358e-04\n",
            "Epoch 89/100\n",
            "38/38 [==============================] - 1s 22ms/step - loss: 1.8421e-04\n",
            "Epoch 90/100\n",
            "38/38 [==============================] - 1s 22ms/step - loss: 1.8853e-04\n",
            "Epoch 91/100\n",
            "38/38 [==============================] - 1s 23ms/step - loss: 1.8929e-04\n",
            "Epoch 92/100\n",
            "38/38 [==============================] - 1s 22ms/step - loss: 2.0065e-04\n",
            "Epoch 93/100\n",
            "38/38 [==============================] - 1s 20ms/step - loss: 1.7316e-04\n",
            "Epoch 94/100\n",
            "38/38 [==============================] - 1s 20ms/step - loss: 1.7538e-04\n",
            "Epoch 95/100\n",
            "38/38 [==============================] - 1s 21ms/step - loss: 1.8197e-04\n",
            "Epoch 96/100\n",
            "38/38 [==============================] - 1s 21ms/step - loss: 2.2160e-04\n",
            "Epoch 97/100\n",
            "38/38 [==============================] - 1s 21ms/step - loss: 1.6819e-04\n",
            "Epoch 98/100\n",
            "38/38 [==============================] - 1s 21ms/step - loss: 1.6579e-04\n",
            "Epoch 99/100\n",
            "38/38 [==============================] - 1s 20ms/step - loss: 1.9471e-04\n",
            "Epoch 100/100\n",
            "38/38 [==============================] - 1s 22ms/step - loss: 1.7065e-04\n"
          ]
        },
        {
          "output_type": "execute_result",
          "data": {
            "text/plain": [
              "<keras.callbacks.History at 0x7f7833972110>"
            ]
          },
          "metadata": {},
          "execution_count": 15
        }
      ]
    },
    {
      "cell_type": "code",
      "source": [
        "dataset_test = pd.read_csv('rnn-stock-price-prediction/testset.csv')"
      ],
      "metadata": {
        "id": "r7WrKmDmHT9W"
      },
      "execution_count": 16,
      "outputs": []
    },
    {
      "cell_type": "code",
      "source": [
        "test_set = dataset_test.iloc[:,1:2].values"
      ],
      "metadata": {
        "id": "CDqX7mR0Hc1v"
      },
      "execution_count": 17,
      "outputs": []
    },
    {
      "cell_type": "code",
      "source": [
        "test_set.shape"
      ],
      "metadata": {
        "colab": {
          "base_uri": "https://localhost:8080/"
        },
        "id": "0u-SGwZlHhu8",
        "outputId": "4b5e9dc9-4395-4040-cb5e-a99bbee3e4e8"
      },
      "execution_count": 18,
      "outputs": [
        {
          "output_type": "execute_result",
          "data": {
            "text/plain": [
              "(125, 1)"
            ]
          },
          "metadata": {},
          "execution_count": 18
        }
      ]
    },
    {
      "cell_type": "code",
      "source": [
        "dataset_total = pd.concat((dataset_train['Open'],dataset_test['Open']),axis=0)"
      ],
      "metadata": {
        "id": "tK-BLrdIHmH9"
      },
      "execution_count": 19,
      "outputs": []
    },
    {
      "cell_type": "code",
      "source": [
        "inputs = dataset_total.values\n",
        "inputs = inputs.reshape(-1,1)\n",
        "inputs_scaled=sc.transform(inputs)\n",
        "X_test = []\n",
        "for i in range(60,1384):\n",
        "  X_test.append(inputs_scaled[i-60:i,0])\n",
        "X_test = np.array(X_test)\n",
        "X_test = np.reshape(X_test,(X_test.shape[0], X_test.shape[1],1))"
      ],
      "metadata": {
        "id": "EcY7Gd15HsaD"
      },
      "execution_count": 20,
      "outputs": []
    },
    {
      "cell_type": "code",
      "source": [
        "X_test.shape"
      ],
      "metadata": {
        "colab": {
          "base_uri": "https://localhost:8080/"
        },
        "id": "7A_IMUocHvTz",
        "outputId": "6346561a-711b-403d-cc4a-07a43d909cea"
      },
      "execution_count": 21,
      "outputs": [
        {
          "output_type": "execute_result",
          "data": {
            "text/plain": [
              "(1324, 60, 1)"
            ]
          },
          "metadata": {},
          "execution_count": 21
        }
      ]
    },
    {
      "cell_type": "code",
      "source": [
        "predicted_stock_price_scaled = model.predict(X_test)\n",
        "predicted_stock_price = sc.inverse_transform(predicted_stock_price_scaled)"
      ],
      "metadata": {
        "id": "neG85gpxHy7x",
        "colab": {
          "base_uri": "https://localhost:8080/"
        },
        "outputId": "b0a11676-94a6-4f05-9c9b-892e51fd7d57"
      },
      "execution_count": 22,
      "outputs": [
        {
          "output_type": "stream",
          "name": "stdout",
          "text": [
            "42/42 [==============================] - 1s 8ms/step\n"
          ]
        }
      ]
    },
    {
      "cell_type": "code",
      "source": [
        "plt.plot(np.arange(0,1384),inputs, color='red', label = 'Test(Real) Google stock price')\n",
        "plt.plot(np.arange(60,1384),predicted_stock_price, color='blue', label = 'Predicted Google stock price')\n",
        "plt.title('Google Stock Price Prediction')\n",
        "plt.xlabel('Time')\n",
        "plt.ylabel('Google Stock Price')\n",
        "plt.legend()\n",
        "plt.show()"
      ],
      "metadata": {
        "colab": {
          "base_uri": "https://localhost:8080/",
          "height": 295
        },
        "id": "BIlY1AIRH2EU",
        "outputId": "0e2a2f0e-ea60-4ce1-d644-9e29ada9599c"
      },
      "execution_count": 23,
      "outputs": [
        {
          "output_type": "display_data",
          "data": {
            "text/plain": [
              "<Figure size 432x288 with 1 Axes>"
            ],
            "image/png": "[encoded data removed]"
          },
          "metadata": {
            "needs_background": "light"
          }
        }
      ]
    },
    {
      "cell_type": "code",
      "source": [
        "m=tf.keras.losses.MeanSquaredError()\n",
        "\n",
        "m(dataset_test[\"Close\"],predicted_stock_price)"
      ],
      "metadata": {
        "id": "RjuVaLuvH-7S",
        "outputId": "2bf428d3-a502-4f66-9a6b-00edfe339eeb",
        "colab": {
          "base_uri": "https://localhost:8080/"
        }
      },
      "execution_count": 24,
      "outputs": [
        {
          "output_type": "execute_result",
          "data": {
            "text/plain": [
              "<tf.Tensor: shape=(), dtype=float32, numpy=195192.11>"
            ]
          },
          "metadata": {},
          "execution_count": 24
        }
      ]
    }
  ]
}